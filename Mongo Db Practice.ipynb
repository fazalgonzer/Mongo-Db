{
 "cells": [
  {
   "cell_type": "code",
   "execution_count": 1,
   "id": "9337f1a2",
   "metadata": {},
   "outputs": [
    {
     "name": "stdout",
     "output_type": "stream",
     "text": [
      "Requirement already satisfied: pymongo in d:\\anaconda\\envs\\fazal\\lib\\site-packages (4.3.3)\n",
      "Requirement already satisfied: dnspython<3.0.0,>=1.16.0 in d:\\anaconda\\envs\\fazal\\lib\\site-packages (from pymongo) (2.3.0)\n"
     ]
    }
   ],
   "source": [
    "!pip install pymongo\n"
   ]
  },
  {
   "cell_type": "code",
   "execution_count": 1,
   "id": "643eaa09",
   "metadata": {},
   "outputs": [],
   "source": [
    "import pymongo"
   ]
  },
  {
   "cell_type": "code",
   "execution_count": 2,
   "id": "1f6ca2e5",
   "metadata": {},
   "outputs": [],
   "source": [
    "client=pymongo.MongoClient('mongodb://localhost:27017')"
   ]
  },
  {
   "cell_type": "code",
   "execution_count": 7,
   "id": "c849e397",
   "metadata": {},
   "outputs": [],
   "source": [
    "mydb=client['employee']"
   ]
  },
  {
   "cell_type": "code",
   "execution_count": 8,
   "id": "a1ec80cd",
   "metadata": {},
   "outputs": [],
   "source": [
    "info=mydb.employeeinformation"
   ]
  },
  {
   "cell_type": "code",
   "execution_count": 9,
   "id": "58428b05",
   "metadata": {},
   "outputs": [],
   "source": [
    "record={'firstname':'Krish',\n",
    "        'lastname':'Naik',\n",
    "        'dep':'Data'\n",
    "    \n",
    "    \n",
    "    \n",
    "}#we can aslo add multiple records by insert many . By using list iof record sd\n"
   ]
  },
  {
   "cell_type": "code",
   "execution_count": 10,
   "id": "a98a5f85",
   "metadata": {},
   "outputs": [
    {
     "data": {
      "text/plain": [
       "<pymongo.results.InsertOneResult at 0x279a23be260>"
      ]
     },
     "execution_count": 10,
     "metadata": {},
     "output_type": "execute_result"
    }
   ],
   "source": [
    "info.insert_one(record)"
   ]
  },
  {
   "cell_type": "code",
   "execution_count": 19,
   "id": "cd487558",
   "metadata": {},
   "outputs": [
    {
     "data": {
      "text/plain": [
       "<pymongo.results.UpdateResult at 0x279a3cd2c20>"
      ]
     },
     "execution_count": 19,
     "metadata": {},
     "output_type": "execute_result"
    }
   ],
   "source": [
    "info.update_one({'firstname':'Krish'},{\"$set\":{'dep':'maths'}})#updating the  teh DAta "
   ]
  },
  {
   "cell_type": "code",
   "execution_count": 20,
   "id": "d5345447",
   "metadata": {},
   "outputs": [],
   "source": [
    "#finding teh data \n",
    "data=info.find_one({'firstname':'Krish'}) "
   ]
  },
  {
   "cell_type": "code",
   "execution_count": 26,
   "id": "2a9a3e8d",
   "metadata": {},
   "outputs": [
    {
     "data": {
      "text/plain": [
       "'Krish'"
      ]
     },
     "execution_count": 26,
     "metadata": {},
     "output_type": "execute_result"
    }
   ],
   "source": [
    "data['firstname']"
   ]
  },
  {
   "cell_type": "code",
   "execution_count": 27,
   "id": "091fff49",
   "metadata": {},
   "outputs": [
    {
     "name": "stdout",
     "output_type": "stream",
     "text": [
      "Krish\n"
     ]
    }
   ],
   "source": [
    "for r in info.find():\n",
    "    print(r['firstname'])"
   ]
  },
  {
   "cell_type": "code",
   "execution_count": 28,
   "id": "c2ae53af",
   "metadata": {},
   "outputs": [
    {
     "name": "stdout",
     "output_type": "stream",
     "text": [
      "{'_id': ObjectId('65d1f2305f00b8245170bf4a'), 'firstname': 'Krish', 'lastname': 'Naik', 'dep': 'maths'}\n"
     ]
    }
   ],
   "source": [
    "#for using $in  work like or \n",
    "for r in info.find({'dep':{'$in':['maths','english']}}):\n",
    "      print(r)"
   ]
  },
  {
   "cell_type": "code",
   "execution_count": 30,
   "id": "824dba44",
   "metadata": {},
   "outputs": [],
   "source": [
    "record2=[\n",
    "    {'firstname':'A',\n",
    "        'lastname':'B',\n",
    "        'dep':'english'},\n",
    "    {'firstname':'C',\n",
    "        'lastname':'D',\n",
    "        'dep':'maths'},\n",
    "    \n",
    "    \n",
    "    \n",
    "    \n",
    "\n",
    "    \n",
    "    \n",
    "    \n",
    "]"
   ]
  },
  {
   "cell_type": "code",
   "execution_count": 31,
   "id": "40ffa9fe",
   "metadata": {},
   "outputs": [
    {
     "data": {
      "text/plain": [
       "<pymongo.results.InsertManyResult at 0x279a23bebf0>"
      ]
     },
     "execution_count": 31,
     "metadata": {},
     "output_type": "execute_result"
    }
   ],
   "source": [
    "info.insert_many(record2)#isnerting many records"
   ]
  },
  {
   "cell_type": "code",
   "execution_count": 32,
   "id": "6c88cbc7",
   "metadata": {},
   "outputs": [
    {
     "name": "stdout",
     "output_type": "stream",
     "text": [
      "{'_id': ObjectId('65d1f2305f00b8245170bf4a'), 'firstname': 'Krish', 'lastname': 'Naik', 'dep': 'maths'}\n",
      "{'_id': ObjectId('65d1f8105f00b8245170bf4b'), 'firstname': 'A', 'lastname': 'B', 'dep': 'english'}\n",
      "{'_id': ObjectId('65d1f8105f00b8245170bf4c'), 'firstname': 'C', 'lastname': 'D', 'dep': 'maths'}\n"
     ]
    }
   ],
   "source": [
    "for r in info.find({'dep':{'$in':['maths','english']}}):#another eg for or \n",
    "      print(r)"
   ]
  },
  {
   "cell_type": "code",
   "execution_count": 37,
   "id": "64d6cdd5",
   "metadata": {},
   "outputs": [
    {
     "name": "stdout",
     "output_type": "stream",
     "text": [
      "{'_id': ObjectId('65d1f8105f00b8245170bf4b'), 'firstname': 'A', 'lastname': 'B', 'dep': 'english'}\n"
     ]
    }
   ],
   "source": [
    "#$lt mean less than in mongo Db\n",
    "#for And operator in Mongo \n",
    "\n",
    "for r in info.find({'firstname':'A','dep':'english'}):#another eg for or \n",
    "      print(r)"
   ]
  },
  {
   "cell_type": "code",
   "execution_count": 39,
   "id": "85634b24",
   "metadata": {},
   "outputs": [
    {
     "name": "stdout",
     "output_type": "stream",
     "text": [
      "{'_id': ObjectId('65d1f8105f00b8245170bf4b'), 'firstname': 'A', 'lastname': 'B', 'dep': 'english'}\n"
     ]
    }
   ],
   "source": [
    "#For Or Operator \n",
    "\n",
    "for r in info.find({'$or':[{'firstname':'A'},{'dep':'english'}]}):#another eg for or \n",
    "      print(r)"
   ]
  },
  {
   "cell_type": "code",
   "execution_count": 40,
   "id": "370dff17",
   "metadata": {},
   "outputs": [],
   "source": [
    "inventory=mydb.inventry#nested Documents "
   ]
  },
  {
   "cell_type": "code",
   "execution_count": 41,
   "id": "a188be5c",
   "metadata": {},
   "outputs": [],
   "source": [
    "inventory.insert_many( [\n",
    "   { 'item': \"journal\", 'qty': 25, 'size': { 'h': 14, 'w': 21,'uom': \"cm\" }, 'status': \"A\" },\n",
    "   { 'item': \"notebook\", 'qty': 50,'size': { 'h': 8.5, 'w': 11,'uom': \"in\" },'status': \"A\" },\n",
    "   { 'item': \"paper\", 'qty': 100, 'size': { 'h': 8.5, 'w': 11,'uom': \"in\" },'status': \"D\" },\n",
    "   { 'item': \"planner\", 'qty': 75, 'size': { 'h': 22.85,'w': 30,'uom': \"cm\" },'status': \"D\" },\n",
    "   { 'item': \"postcard\", 'qty': 45, 'size': { 'h': 10, 'w': 15.25,'uom': \"cm\" },'status': \"A\" }\n",
    "]);\n",
    "   "
   ]
  },
  {
   "cell_type": "code",
   "execution_count": 43,
   "id": "b0841cbb",
   "metadata": {},
   "outputs": [
    {
     "name": "stdout",
     "output_type": "stream",
     "text": [
      "{'_id': ObjectId('65d2043f5f00b8245170bf4d'), 'item': 'journal', 'qty': 25, 'size': {'h': 14, 'w': 21, 'uom': 'cm'}, 'status': 'A'}\n"
     ]
    }
   ],
   "source": [
    "for r in inventory.find({'size': { 'h': 14, 'w': 21,'uom': \"cm\" }}):\n",
    "     print(r)"
   ]
  },
  {
   "cell_type": "code",
   "execution_count": 47,
   "id": "74301630",
   "metadata": {},
   "outputs": [
    {
     "data": {
      "text/plain": [
       "<pymongo.results.UpdateResult at 0x279a3d7a6b0>"
      ]
     },
     "execution_count": 47,
     "metadata": {},
     "output_type": "execute_result"
    }
   ],
   "source": [
    "inventory.update_one({'item': \"journal\"},{'$set':{'size.h':18},'$currentDate':{'lastModified':True}})#isme ham value ko upadte rkhay hain and uske andar jakr valeu chaneg krhay hain \n",
    "\n",
    "#last modfied ka matlab ye he ke isme lastest valeu udpaetd hogi "
   ]
  },
  {
   "cell_type": "code",
   "execution_count": 49,
   "id": "0268f11e",
   "metadata": {},
   "outputs": [
    {
     "name": "stdout",
     "output_type": "stream",
     "text": [
      "{'_id': ObjectId('65d2043f5f00b8245170bf4d'), 'item': 'journal', 'qty': 25, 'size': {'h': 18, 'w': 21, 'uom': 'cm'}, 'status': 'A', 'lastModified': datetime.datetime(2024, 2, 18, 13, 43, 10, 464000)}\n"
     ]
    }
   ],
   "source": [
    "for r in inventory.find({'size': { 'h': 18, 'w': 21,'uom': \"cm\" }}):\n",
    "     print(r)"
   ]
  },
  {
   "cell_type": "code",
   "execution_count": null,
   "id": "b3e8c1b9",
   "metadata": {},
   "outputs": [],
   "source": [
    "#replace one \n",
    "#you can replace with any structure no need to follow schema \n",
    "#replace_one(\"filter\",replace with ) "
   ]
  },
  {
   "cell_type": "markdown",
   "id": "6eccf9ec",
   "metadata": {},
   "source": [
    "Working on Aggragate"
   ]
  },
  {
   "cell_type": "code",
   "execution_count": 3,
   "id": "e1f2c867",
   "metadata": {},
   "outputs": [],
   "source": [
    "# Access database  \n",
    "mydatabase = client['Students']  "
   ]
  },
  {
   "cell_type": "code",
   "execution_count": 4,
   "id": "a0c2e637",
   "metadata": {},
   "outputs": [
    {
     "data": {
      "text/plain": [
       "<pymongo.results.InsertManyResult at 0x1ebe1b96ec0>"
      ]
     },
     "execution_count": 4,
     "metadata": {},
     "output_type": "execute_result"
    }
   ],
   "source": [
    "# Access collection of the database  \n",
    "collection=mydatabase['studentscores']  \n",
    "data = [ \n",
    "    {\"user\":\"Krish\", \"subject\":\"Database\", \"score\":80}, \n",
    "    {\"user\":\"Amit\",  \"subject\":\"JavaScript\", \"score\":90}, \n",
    "    {\"user\":\"Amit\",  \"title\":\"Database\", \"score\":85}, \n",
    "    {\"user\":\"Krish\",  \"title\":\"JavaScript\", \"score\":75}, \n",
    "    {\"user\":\"Amit\",  \"title\":\"Data Science\", \"score\":60},\n",
    "    {\"user\":\"Krish\",  \"title\":\"Data Science\", \"score\":95}] \n",
    "  \n",
    "collection.insert_many(data) "
   ]
  },
  {
   "cell_type": "markdown",
   "id": "5f186f0b",
   "metadata": {},
   "source": [
    "for every time using aggreagate function we have to use group function\n"
   ]
  },
  {
   "cell_type": "code",
   "execution_count": 8,
   "id": "104e3d92",
   "metadata": {},
   "outputs": [
    {
     "name": "stdout",
     "output_type": "stream",
     "text": [
      "{'_id': 'Amit', 'total_subject': 3}\n",
      "{'_id': 'Krish', 'total_subject': 3}\n"
     ]
    }
   ],
   "source": [
    "#find amit nad krish  total subjects \n",
    "agg_result=collection.aggregate([\n",
    "    {\n",
    "        \"$group\":{\n",
    "            \"_id\":\"$user\", #unique identification to group by\n",
    "            \"total_subject\":{\"$sum\":1}\n",
    "        }\n",
    "    }\n",
    "])\n",
    "for r in agg_result:\n",
    "    print(r)\n",
    "    \n"
   ]
  },
  {
   "cell_type": "code",
   "execution_count": 22,
   "id": "a7162e6c",
   "metadata": {},
   "outputs": [],
   "source": [
    "#total Score\n",
    "agg_result2=collection.aggregate([\n",
    "    \n",
    "    {\n",
    "        \"$group\":{\n",
    "            \"_id\":\"$user\",\n",
    "            \"total score\":{\"$sum\":\"$score\"}\n",
    "            \n",
    "            \n",
    "        }\n",
    "        \n",
    "        \n",
    "    }\n",
    "    \n",
    "    \n",
    "])"
   ]
  },
  {
   "cell_type": "code",
   "execution_count": 23,
   "id": "bcc5b651",
   "metadata": {},
   "outputs": [
    {
     "name": "stdout",
     "output_type": "stream",
     "text": [
      "{'_id': 'Krish', 'total score': 250}\n",
      "{'_id': 'Amit', 'total score': 235}\n"
     ]
    }
   ],
   "source": [
    "for r in agg_result2:\n",
    "    print(r)"
   ]
  },
  {
   "cell_type": "code",
   "execution_count": 24,
   "id": "171642e2",
   "metadata": {},
   "outputs": [],
   "source": [
    "#calculating average on base of user"
   ]
  },
  {
   "cell_type": "code",
   "execution_count": 28,
   "id": "cf1321b5",
   "metadata": {},
   "outputs": [],
   "source": [
    "agg_result3=collection.aggregate([\n",
    "    {\"$group\":{\n",
    "        \"_id\":\"$user\",\n",
    "        \"average \":{\"$avg\":\"$score\"}\n",
    "        \n",
    "        \n",
    "    }\n",
    "    }\n",
    "    \n",
    "])"
   ]
  },
  {
   "cell_type": "code",
   "execution_count": 29,
   "id": "f6eafbbe",
   "metadata": {},
   "outputs": [
    {
     "name": "stdout",
     "output_type": "stream",
     "text": [
      "{'_id': 'Krish', 'average ': 83.33333333333333}\n",
      "{'_id': 'Amit', 'average ': 78.33333333333333}\n"
     ]
    }
   ],
   "source": [
    "for r in agg_result3:\n",
    "    print(r)"
   ]
  },
  {
   "cell_type": "code",
   "execution_count": 30,
   "id": "1a088f61",
   "metadata": {},
   "outputs": [],
   "source": [
    "#new data for datetime things "
   ]
  },
  {
   "cell_type": "code",
   "execution_count": 31,
   "id": "26f67f50",
   "metadata": {},
   "outputs": [],
   "source": [
    "import datetime as datetime"
   ]
  },
  {
   "cell_type": "code",
   "execution_count": 32,
   "id": "0bd217f3",
   "metadata": {},
   "outputs": [],
   "source": [
    "### Create a new collection\n",
    "data=[{ \"_id\" : 1, \"item\" : \"abc\", \"price\" : 10, \"quantity\" : 2, \"date\" : datetime.datetime.utcnow()},\n",
    "{ \"_id\" : 2, \"item\" : \"jkl\", \"price\" : 20, \"quantity\" : 1, \"date\" : datetime.datetime.utcnow() },\n",
    "{ \"_id\" : 3, \"item\" : \"xyz\", \"price\" : 5, \"quantity\" : 5, \"date\" : datetime.datetime.utcnow() },\n",
    "{ \"_id\" : 4, \"item\" : \"abc\", \"price\" : 10, \"quantity\" : 10, \"date\" : datetime.datetime.utcnow() },\n",
    "{ \"_id\" : 5, \"item\" : \"xyz\", \"price\" : 5, \"quantity\" : 10, \"date\" :datetime.datetime.utcnow() }]"
   ]
  },
  {
   "cell_type": "code",
   "execution_count": 33,
   "id": "8706c9e6",
   "metadata": {},
   "outputs": [
    {
     "data": {
      "text/plain": [
       "[{'_id': 1,\n",
       "  'item': 'abc',\n",
       "  'price': 10,\n",
       "  'quantity': 2,\n",
       "  'date': datetime.datetime(2024, 2, 18, 16, 14, 4, 489744)},\n",
       " {'_id': 2,\n",
       "  'item': 'jkl',\n",
       "  'price': 20,\n",
       "  'quantity': 1,\n",
       "  'date': datetime.datetime(2024, 2, 18, 16, 14, 4, 489744)},\n",
       " {'_id': 3,\n",
       "  'item': 'xyz',\n",
       "  'price': 5,\n",
       "  'quantity': 5,\n",
       "  'date': datetime.datetime(2024, 2, 18, 16, 14, 4, 489744)},\n",
       " {'_id': 4,\n",
       "  'item': 'abc',\n",
       "  'price': 10,\n",
       "  'quantity': 10,\n",
       "  'date': datetime.datetime(2024, 2, 18, 16, 14, 4, 489744)},\n",
       " {'_id': 5,\n",
       "  'item': 'xyz',\n",
       "  'price': 5,\n",
       "  'quantity': 10,\n",
       "  'date': datetime.datetime(2024, 2, 18, 16, 14, 4, 489744)}]"
      ]
     },
     "execution_count": 33,
     "metadata": {},
     "output_type": "execute_result"
    }
   ],
   "source": [
    "data"
   ]
  },
  {
   "cell_type": "code",
   "execution_count": 34,
   "id": "9f3d68b6",
   "metadata": {},
   "outputs": [
    {
     "data": {
      "text/plain": [
       "<pymongo.results.InsertManyResult at 0x1ebe1f35900>"
      ]
     },
     "execution_count": 34,
     "metadata": {},
     "output_type": "execute_result"
    }
   ],
   "source": [
    "mycollection=mydatabase['stores']  \n",
    "mycollection.insert_many(data)"
   ]
  },
  {
   "cell_type": "code",
   "execution_count": 38,
   "id": "012907f1",
   "metadata": {},
   "outputs": [],
   "source": [
    "#calculating by average quanitity + aveager price by  q*price thend adding them up then using the $avg on them \n",
    "\n",
    "agg_result4=mycollection.aggregate([\n",
    "   {\n",
    "      \"$group\": {\n",
    "         \"_id\": '$item',\n",
    "         \"avgAmount\": {\"$avg\": {\"$multiply\": [ \"$price\", \"$quantity\" ]}},\n",
    "          \"avgQuantity\": { \"$avg\": \"$quantity\" }\n",
    "      }\n",
    "   }\n",
    "])\n",
    "\n",
    "\n",
    "\n",
    "\n",
    "\n"
   ]
  },
  {
   "cell_type": "code",
   "execution_count": 40,
   "id": "852334eb",
   "metadata": {},
   "outputs": [
    {
     "name": "stdout",
     "output_type": "stream",
     "text": [
      "{'_id': 'jkl', 'avgAmount': 20.0, 'avgQuantity': 1.0}\n",
      "{'_id': 'abc', 'avgAmount': 60.0, 'avgQuantity': 6.0}\n",
      "{'_id': 'xyz', 'avgAmount': 37.5, 'avgQuantity': 7.5}\n"
     ]
    }
   ],
   "source": [
    "for i in agg_result4: \n",
    "    print(i)"
   ]
  },
  {
   "cell_type": "code",
   "execution_count": 41,
   "id": "e794d69f",
   "metadata": {},
   "outputs": [],
   "source": [
    "#### $Project\n",
    "\n",
    "data=[{\n",
    "  \"_id\" : 1,\n",
    "  \"title\": \"abc123\",\n",
    "  \"isbn\": \"0001122223334\",\n",
    "  \"author\": { \"last\": \"zzz\", \"first\": \"aaa\" },\n",
    "  \"copies\": 5\n",
    "},\n",
    "{\n",
    "  \"_id\" : 2,\n",
    "  \"title\": \"Baked Goods\",\n",
    "  \"isbn\": \"9999999999999\",\n",
    "  \"author\": { \"last\": \"xyz\", \"first\": \"abc\", \"middle\": \"\" },\n",
    "  \"copies\": 2\n",
    "}\n",
    "]"
   ]
  },
  {
   "cell_type": "code",
   "execution_count": 42,
   "id": "0e1969b5",
   "metadata": {},
   "outputs": [],
   "source": [
    "# Access collection of the database  \n",
    "collection=mydatabase['Books']  "
   ]
  },
  {
   "cell_type": "code",
   "execution_count": 43,
   "id": "9216cf2d",
   "metadata": {},
   "outputs": [
    {
     "data": {
      "text/plain": [
       "<pymongo.results.InsertManyResult at 0x1ebe1f1b790>"
      ]
     },
     "execution_count": 43,
     "metadata": {},
     "output_type": "execute_result"
    }
   ],
   "source": [
    "collection.insert_many(data)"
   ]
  },
  {
   "cell_type": "code",
   "execution_count": 46,
   "id": "d69a3fe4",
   "metadata": {},
   "outputs": [
    {
     "name": "stdout",
     "output_type": "stream",
     "text": [
      "{'_id': 1, 'title': 'abc123', 'isbn': '0001122223334', 'copies': 5}\n",
      "{'_id': 2, 'title': 'Baked Goods', 'isbn': '9999999999999', 'copies': 2}\n"
     ]
    }
   ],
   "source": [
    "for row in collection.aggregate( [ { \"$project\": { \"title\": 1,\"isbn\":1,\"copies\":1 } } ] ):\n",
    "    print(row)"
   ]
  },
  {
   "cell_type": "markdown",
   "id": "f1679aba",
   "metadata": {},
   "source": [
    "For Pymongo cloud !pip install pymongo[srv]"
   ]
  },
  {
   "cell_type": "code",
   "execution_count": null,
   "id": "e6bf35b8",
   "metadata": {},
   "outputs": [],
   "source": []
  }
 ],
 "metadata": {
  "kernelspec": {
   "display_name": "fazal",
   "language": "python",
   "name": "fazal"
  },
  "language_info": {
   "codemirror_mode": {
    "name": "ipython",
    "version": 3
   },
   "file_extension": ".py",
   "mimetype": "text/x-python",
   "name": "python",
   "nbconvert_exporter": "python",
   "pygments_lexer": "ipython3",
   "version": "3.10.9"
  }
 },
 "nbformat": 4,
 "nbformat_minor": 5
}
